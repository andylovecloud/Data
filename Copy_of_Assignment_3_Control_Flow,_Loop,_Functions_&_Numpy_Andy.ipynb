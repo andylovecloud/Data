{
  "nbformat": 4,
  "nbformat_minor": 0,
  "metadata": {
    "kernelspec": {
      "display_name": "Python 3",
      "language": "python",
      "name": "python3"
    },
    "language_info": {
      "codemirror_mode": {
        "name": "ipython",
        "version": 3
      },
      "file_extension": ".py",
      "mimetype": "text/x-python",
      "name": "python",
      "nbconvert_exporter": "python",
      "pygments_lexer": "ipython3",
      "version": "3.7.3"
    },
    "colab": {
      "provenance": [],
      "include_colab_link": true
    }
  },
  "cells": [
    {
      "cell_type": "markdown",
      "metadata": {
        "id": "view-in-github",
        "colab_type": "text"
      },
      "source": [
        "<a href=\"https://colab.research.google.com/github/andylovecloud/Data/blob/main/Copy_of_Assignment_3_Control_Flow%2C_Loop%2C_Functions_%26_Numpy_Andy.ipynb\" target=\"_parent\"><img src=\"https://colab.research.google.com/assets/colab-badge.svg\" alt=\"Open In Colab\"/></a>"
      ]
    },
    {
      "cell_type": "markdown",
      "metadata": {
        "id": "bDes99ZUJEXs"
      },
      "source": [
        "# Assignment 3 - Control Flow, Loop, Numpy & Function\n",
        "Basics of Data Analysis <br>\n",
        "Total Points 26 <br>\n",
        "To pass you need to get atleast 14 points"
      ]
    },
    {
      "cell_type": "markdown",
      "metadata": {
        "id": "sXqcXpf4JBSl"
      },
      "source": [
        "1. Write a program that prompts students to provide their total points (0 -100) and check with the following conidtions: (5 Points) <br>\n",
        "\n",
        "* if total point is greater than or equal to 85 then the grade is 5\n",
        "* if total point is greater than or equal to 75 then the grade is 4\n",
        "* if total point is greater than or equal to 65 then the grade is 3\n",
        "* if total point is greater than or equal to 55 then the grade is 2\n",
        "* if total point is greater than or equal to 45 then the grade is 1\n",
        "* if total point is less than 45 then the grade is 0\n",
        "\n",
        "(Use IF statement)\n"
      ]
    },
    {
      "cell_type": "code",
      "metadata": {
        "id": "WnrK1m8FJBSm",
        "outputId": "7a630bb8-f238-4510-9187-188d54183659",
        "colab": {
          "base_uri": "https://localhost:8080/"
        }
      },
      "source": [
        "#ask user to input point - check example just below this cell if you do not know how to get input from the user.\n",
        "# Write conditions to check and output the grade based on point\n",
        "\n",
        "user_input = int (input(\"Enter your total points: \"))\n",
        "# print(\"Your points is: \", user_input)\n",
        "if (user_input >= 85):\n",
        "    print(\"Your grade is 5 \")\n",
        "elif (user_input >= 75):\n",
        "    print(\"Your grade is 4 \")\n",
        "elif (user_input >= 65):\n",
        "    print(\"Your grade is 3 \")\n",
        "elif (user_input >= 55):\n",
        "    print(\"Your grade is 2 \")\n",
        "elif (user_input >= 45):\n",
        "    print(\"Your grade is 1 \")\n",
        "else:\n",
        "    print(\"Your grade is 0 \")"
      ],
      "execution_count": null,
      "outputs": [
        {
          "output_type": "stream",
          "name": "stdout",
          "text": [
            "Enter your total points: 3\n",
            "Your grade is 0 \n"
          ]
        }
      ]
    },
    {
      "cell_type": "code",
      "source": [
        "# How to get input from the user in Python?\n",
        "# To get input from the user , you can use input() function which always returns a string\n",
        "# Example 1: String input from the user\n",
        "user_input = input(\"Enter your name: \")\n",
        "print(\"Your name is \", user_input)\n",
        "\n",
        "# Example 2: Number input from the user\n",
        "# To get numbers from the user, you will need to conver the user inputs by using functions like int() or float().\n",
        "\n",
        "# To get an integer input from the user\n",
        "age_input = int(input(\"Enter your Age: \"))\n",
        "print(\"You are \", age_input, \"years old.\")\n",
        "\n",
        "\n",
        "# To get a float input from the user\n",
        "height_input = float(input(\"Enter your height in cm: \"))\n",
        "print(\"Your height is \", height_input, \"CM\")"
      ],
      "metadata": {
        "id": "tHOkAiBmIUQp",
        "outputId": "e5dd06b8-48c9-4b42-890e-4adbb982d5c2",
        "colab": {
          "base_uri": "https://localhost:8080/"
        }
      },
      "execution_count": null,
      "outputs": [
        {
          "output_type": "stream",
          "name": "stdout",
          "text": [
            "Enter your name: 5\n",
            "Your name is  5\n",
            "Enter your Age: 45\n",
            "You are  45 years old.\n",
            "Enter your height in cm: 3\n",
            "Your height is  3.0 CM\n"
          ]
        }
      ]
    },
    {
      "cell_type": "markdown",
      "metadata": {
        "id": "hsmmFdowJBSp"
      },
      "source": [
        "2. Write a  program that asks used to input a number and create the multiplication table (from 1 to 10) of a number.(Use For) The output should be as below for an inputted number: (5 Points) <br>\n",
        "5 * 1 = 5 <br>\n",
        "5 * 2 = 10<br>\n",
        "...<br>\n",
        "...<br>\n",
        "...<br>\n",
        "5 * 10 = 50"
      ]
    },
    {
      "cell_type": "code",
      "metadata": {
        "id": "qWFK9S4gJBSp"
      },
      "source": [
        "# get input from the user\n",
        "# print multiplication table for the number"
      ],
      "execution_count": null,
      "outputs": []
    },
    {
      "cell_type": "code",
      "source": [
        "number = int (input(\"Enter your number: \"))\n",
        "for i in range(1, 11):\n",
        "    result = number * i\n",
        "    print(f\"{number} x {i} = {result}\")"
      ],
      "metadata": {
        "id": "oYCaC7T_Mr59",
        "outputId": "c595c6be-a7d7-4860-d66f-fb6a52bb21c2",
        "colab": {
          "base_uri": "https://localhost:8080/"
        }
      },
      "execution_count": null,
      "outputs": [
        {
          "output_type": "stream",
          "name": "stdout",
          "text": [
            "Enter your number: 3\n",
            "3 x 1 = 3\n",
            "3 x 2 = 6\n",
            "3 x 3 = 9\n",
            "3 x 4 = 12\n",
            "3 x 5 = 15\n",
            "3 x 6 = 18\n",
            "3 x 7 = 21\n",
            "3 x 8 = 24\n",
            "3 x 9 = 27\n",
            "3 x 10 = 30\n"
          ]
        }
      ]
    },
    {
      "cell_type": "markdown",
      "metadata": {
        "id": "40LCjQ5GJBSu"
      },
      "source": [
        "3. Write a program using Numpy to generate and print 5 random number between 1 & 10 (Hints: random.randint) (3 Points)"
      ]
    },
    {
      "cell_type": "code",
      "metadata": {
        "id": "OAo0XkuMJBSu",
        "outputId": "a37c4950-e6cb-48f2-e432-5621a3ead567",
        "colab": {
          "base_uri": "https://localhost:8080/"
        }
      },
      "source": [
        "import numpy as np\n",
        "\n",
        "# Generate and print 5 random numbers between 1 and 10\n",
        "random_numbers = np.random.randint(1, 11, 5)\n",
        "\n",
        "# Print the generated numbers\n",
        "print(\"Random Numbers:\", random_numbers)\n"
      ],
      "execution_count": null,
      "outputs": [
        {
          "output_type": "stream",
          "name": "stdout",
          "text": [
            "Random Numbers: [ 7  2 10  8  5]\n"
          ]
        }
      ]
    },
    {
      "cell_type": "markdown",
      "source": [
        "4. Calculate the mean, media, mode and standard deviation of an array using Numpy. (5 Points)"
      ],
      "metadata": {
        "id": "XIvigqsPNLCd"
      }
    },
    {
      "cell_type": "code",
      "source": [
        "# create a numpy array named numpy_yourfirstName that includes 10 numbers.\n",
        "import numpy as np\n",
        "from scipy import stats\n",
        "\n",
        "numpy_Andy = np.array([2, 4, 6, 8, 10, 12, 14, 16, 18, 20])\n",
        "\n",
        "# create 4 different variables to store mean, median, mode and standard deviation\n",
        "mean_value = np.mean(numpy_Andy)\n",
        "median_value = np.median(numpy_Andy)\n",
        "mode_value = stats.mode(numpy_Andy)\n",
        "std_deviation_value = np.std(numpy_Andy)\n",
        "\n",
        "# print each value in a new line that is:  The Mean is .... The median is .... The mode is .... The standard deviation is ......\n",
        "print(f\"The Mean is {mean_value}\")\n",
        "print(f\"The Median is {median_value}\")\n",
        "print(f\"The Mode is {mode_value}\")\n",
        "print(f\"The Standard Deviation is {std_deviation_value}\")\n",
        "\n",
        "# Original array\n",
        "print(\"Original array:\", numpy_Andy)\n"
      ],
      "metadata": {
        "id": "ynrLI9mzNagz",
        "colab": {
          "base_uri": "https://localhost:8080/"
        },
        "outputId": "380bab3f-4b7a-4057-8fc5-57324b6a3191"
      },
      "execution_count": 15,
      "outputs": [
        {
          "output_type": "stream",
          "name": "stdout",
          "text": [
            "The Mean is 11.0\n",
            "The Median is 11.0\n",
            "The Mode is ModeResult(mode=2, count=1)\n",
            "The Standard Deviation is 5.744562646538029\n",
            "Original array: [ 2  4  6  8 10 12 14 16 18 20]\n"
          ]
        }
      ]
    },
    {
      "cell_type": "markdown",
      "source": [
        "5. Generate a numpy array of evenly spaced values from 0 to 10 in increments of 2. Hint: np.arrage (2 Points)"
      ],
      "metadata": {
        "id": "07anGnr_OmXt"
      }
    },
    {
      "cell_type": "code",
      "source": [
        "import numpy as np\n",
        "# create an array of values from 0 to 10 in increments of 2\n",
        "even_array = np.arange(0, 11, 2)\n",
        "\n",
        "# print\n",
        "print(\"Evenly spaced array:\", even_array)"
      ],
      "metadata": {
        "id": "qfSAul28PGzY",
        "colab": {
          "base_uri": "https://localhost:8080/"
        },
        "outputId": "2fb6ae4d-df99-4ff6-e00e-b242188927cc"
      },
      "execution_count": 16,
      "outputs": [
        {
          "output_type": "stream",
          "name": "stdout",
          "text": [
            "Evenly spaced array: [ 0  2  4  6  8 10]\n"
          ]
        }
      ]
    },
    {
      "cell_type": "markdown",
      "source": [
        "6. Find the maximum and minimum values in an array. (2 Points)"
      ],
      "metadata": {
        "id": "C8GuYXrGPXT1"
      }
    },
    {
      "cell_type": "code",
      "source": [
        "import numpy as np\n",
        "\n",
        "myarray = np.array([12,13,11,5,6,7,8,9,100, 223])\n",
        "# create two variables to store max and minimum values from the above array\n",
        "max_value = np.max(myarray)\n",
        "min_value = np.min(myarray)\n",
        "\n",
        "\n",
        "# Print the maximum and minimum values\n",
        "print(\"Maximum value:\", max_value)\n",
        "print(\"Minimum value:\", min_value)"
      ],
      "metadata": {
        "id": "VvL-Pw04PdrZ",
        "colab": {
          "base_uri": "https://localhost:8080/"
        },
        "outputId": "15afc9c2-3103-488d-c8eb-020c242875dc"
      },
      "execution_count": 17,
      "outputs": [
        {
          "output_type": "stream",
          "name": "stdout",
          "text": [
            "Maximum value: 223\n",
            "Minimum value: 5\n"
          ]
        }
      ]
    },
    {
      "cell_type": "markdown",
      "source": [
        "7. Create a simple function to calculate the area of a rectangle. (4 points)"
      ],
      "metadata": {
        "id": "pPAskwm_QUXF"
      }
    },
    {
      "cell_type": "code",
      "source": [
        "length = 5.5\n",
        "width = 6.5\n",
        "# Create the function to get the area of the rectangle that is area = length * width\n",
        "# Check below if you do not know how to create function in python\n",
        "def rectangle_area(length, width):\n",
        "   area = length * width\n",
        "   return area\n",
        "\n",
        "\n",
        "# Call the function and print the aread of the rectangle.\n",
        "area_of_rectangle = rectangle_area(length, width)\n",
        "\n",
        "print(\"The area of the rectangle with length\",length, \"and width \", width, \" is : \",  area_of_rectangle )"
      ],
      "metadata": {
        "id": "ShU-5cH5QdRc",
        "colab": {
          "base_uri": "https://localhost:8080/"
        },
        "outputId": "58b35707-b6d1-4bc3-9f7b-31193f4a34bd"
      },
      "execution_count": 38,
      "outputs": [
        {
          "output_type": "stream",
          "name": "stdout",
          "text": [
            "The area of the rectangle with length 5.5 and width  6.5  is :  35.75\n"
          ]
        }
      ]
    },
    {
      "cell_type": "code",
      "source": [
        "# You can create function in Python by using the 'def' keyword.\n",
        "\n",
        "#Syntax:\n",
        "\n",
        "# def function_name(parameters):\n",
        "#  your function\n",
        "\n",
        "#Example 1 : A simple function to add 2 numbers.\n",
        "\n",
        "# Creating a function\n",
        "def add_numbers(a, b):\n",
        "    result = a + b\n",
        "    return result\n",
        "\n",
        "# Calling the function\n",
        "sum_result = add_numbers(4, 5)\n",
        "print(\"Sum:\", sum_result)\n",
        "\n",
        "\n",
        "\n"
      ],
      "metadata": {
        "id": "I9-Csd3WIklM"
      },
      "execution_count": null,
      "outputs": []
    },
    {
      "cell_type": "code",
      "source": [],
      "metadata": {
        "id": "5mtraXoqzbQg"
      },
      "execution_count": null,
      "outputs": []
    }
  ]
}