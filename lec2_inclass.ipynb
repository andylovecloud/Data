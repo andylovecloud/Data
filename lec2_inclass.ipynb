{
 "cells": [
  {
   "cell_type": "code",
   "execution_count": 5,
   "metadata": {},
   "outputs": [
    {
     "name": "stdout",
     "output_type": "stream",
     "text": [
      "Andy 5.4 5\n",
      "2 3 4\n"
     ]
    }
   ],
   "source": [
    "name = \"Andy\"\n",
    "num = 5.4\n",
    "num1 = 5\n",
    "num2, num3, num4 = 2,3,4\n",
    "\n",
    "print(name , num , num1)\n",
    "print (num2, num3, num4)"
   ]
  },
  {
   "cell_type": "markdown",
   "metadata": {},
   "source": [
    "# Data Types: examples"
   ]
  },
  {
   "cell_type": "code",
   "execution_count": 11,
   "metadata": {},
   "outputs": [
    {
     "name": "stdout",
     "output_type": "stream",
     "text": [
      "<class 'list'>\n",
      "<class 'str'>\n"
     ]
    }
   ],
   "source": [
    "#List\n",
    "list1 = [1, 2, \"Hello World\", \"Hameenlinna\", 5]\n",
    "print(type(list1))\n",
    "\n",
    "#Create a variable and assign your name to it\n",
    "#check the data type\n",
    "name = \"Andy\"\n",
    "print(type(name))"
   ]
  },
  {
   "cell_type": "markdown",
   "metadata": {},
   "source": [
    "# Number"
   ]
  },
  {
   "cell_type": "code",
   "execution_count": 16,
   "metadata": {},
   "outputs": [
    {
     "data": {
      "text/plain": [
       "True"
      ]
     },
     "execution_count": 16,
     "metadata": {},
     "output_type": "execute_result"
    }
   ],
   "source": [
    "# converting a string to an integer\n",
    "int(\"5\")\n",
    "\n",
    "# converting a floating-point number to an integer\n",
    "int(5.5)\n",
    "\n",
    "# lets check if 5.1 is an integer\n",
    "isinstance(5.1, int)\n",
    "\n",
    "# checking an inequality\n",
    "(2 ** 3) < (2 ** 4)"
   ]
  },
  {
   "cell_type": "markdown",
   "metadata": {},
   "source": [
    "# Boolean"
   ]
  },
  {
   "cell_type": "code",
   "execution_count": 23,
   "metadata": {},
   "outputs": [
    {
     "data": {
      "text/plain": [
       "False"
      ]
     },
     "execution_count": 23,
     "metadata": {},
     "output_type": "execute_result"
    }
   ],
   "source": [
    "name = \"Pekka space\"\n",
    "name.isalnum() # to check if all characters are numbers, space is not a string or number -> false\n",
    "#islower()\n",
    "name.islower() # to check if string contains all lower case letters\n",
    "name.isalpha()# to check if all characters are strings"
   ]
  },
  {
   "cell_type": "markdown",
   "metadata": {},
   "source": [
    "# Non-type : example\n",
    "<!-- The NoneType has exactly one object and is used to represent null which means nothing. -->"
   ]
  },
  {
   "cell_type": "code",
   "execution_count": 27,
   "metadata": {},
   "outputs": [
    {
     "name": "stdout",
     "output_type": "stream",
     "text": [
      "The list did not contains any values larger than 10\n",
      "The list did not contains any values larger than 10\n",
      "The list did not contains any values larger than 10\n",
      "The large number is:  12\n"
     ]
    }
   ],
   "source": [
    "larget_number = None\n",
    "\n",
    "for number in [1,2,5,12]:\n",
    "    if number > 10:\n",
    "        larget_number = number\n",
    "        print(\"The large number is: \" , larget_number)\n",
    "        break\n",
    "    if larget_number is None:\n",
    "        print(\"The list did not contains any values larger than 10\")"
   ]
  },
  {
   "cell_type": "markdown",
   "metadata": {},
   "source": [
    "# String"
   ]
  },
  {
   "cell_type": "code",
   "execution_count": null,
   "metadata": {},
   "outputs": [],
   "source": [
    "print(\"this is string\")\n",
    "mystring = \"Hello World\"\n",
    "print (mystring)\n",
    "#String contains a sequence of characters,\n",
    "# it is possible to access individual characters\n",
    "print (mystring[0]) #prints the first character\n",
    "print (mystring[0:3])\n",
    "print (mystring[2:4]) #prints the third and 4th character\n",
    "print (mystring[2:]) #prints third character onward\n",
    "print (mystring * 2) #prints two times, repitition\n",
    "print (mystring + \" & deepak kc\") #adds my string to deepak kc"
   ]
  }
 ],
 "metadata": {
  "kernelspec": {
   "display_name": "Python 3",
   "language": "python",
   "name": "python3"
  },
  "language_info": {
   "codemirror_mode": {
    "name": "ipython",
    "version": 3
   },
   "file_extension": ".py",
   "mimetype": "text/x-python",
   "name": "python",
   "nbconvert_exporter": "python",
   "pygments_lexer": "ipython3",
   "version": "3.12.0"
  }
 },
 "nbformat": 4,
 "nbformat_minor": 2
}
